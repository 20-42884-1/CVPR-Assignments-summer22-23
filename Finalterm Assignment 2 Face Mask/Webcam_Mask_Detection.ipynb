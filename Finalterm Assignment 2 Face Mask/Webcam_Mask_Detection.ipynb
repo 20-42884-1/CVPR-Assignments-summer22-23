{
 "cells": [
  {
   "cell_type": "markdown",
   "id": "f063eb2b",
   "metadata": {},
   "source": [
    "## Face Mask Detection with WebCam: Using OpenCV Haar Cascade"
   ]
  },
  {
   "cell_type": "markdown",
   "id": "63809435",
   "metadata": {},
   "source": [
    "Here we will be using OpenCV's Haar Cascade for detecting the face and test wether the face has a mask or not to and to show the status live on the screenc with a webcam.<br><br>\n",
    "Here are the steps we need to follow:<pre>\n",
    "    1. First, provide the xml file for the Haar Cascade, named as <b>\"haarcascade_frontalface_default.xml\"</b>\n",
    "    2. Then, load the model we built earlier with MobileNet and compile it.\n",
    "    3. Create a function that will only crop the area where the face at and use that image frame for predicting the results via the model we created.\n",
    "    4. We also create a function where we set the parameters of the Haar Cascade classifier to detect the face and show results based on the conditions we ought to give.\n",
    "    5. Lastly, we set the video capture, window size, and terminating points before we call our functions to do the tasks.\n",
    "</pre>"
   ]
  },
  {
   "cell_type": "markdown",
   "id": "bd871686",
   "metadata": {},
   "source": [
    "### Import Necessary Libraries"
   ]
  },
  {
   "cell_type": "code",
   "execution_count": 1,
   "id": "e1e271df",
   "metadata": {},
   "outputs": [],
   "source": [
    "import cv2\n",
    "import os\n",
    "import numpy as np\n",
    "import tensorflow as tf\n",
    "from tensorflow.keras.preprocessing.image import img_to_array\n",
    "from tensorflow.keras.models import load_model\n",
    "from tensorflow.keras.applications.mobilenet_v2 import preprocess_input"
   ]
  },
  {
   "cell_type": "markdown",
   "id": "1c9294a8",
   "metadata": {},
   "source": [
    "### Initiate Haar Cascade XML file with OpenCV"
   ]
  },
  {
   "cell_type": "code",
   "execution_count": 2,
   "id": "f301c0b5",
   "metadata": {},
   "outputs": [],
   "source": [
    "face_classifier = cv2.CascadeClassifier(\"haarcascade_frontalface_default.xml\")"
   ]
  },
  {
   "cell_type": "markdown",
   "id": "512ee53b",
   "metadata": {},
   "source": [
    "### Load Model and Compile"
   ]
  },
  {
   "cell_type": "code",
   "execution_count": 3,
   "id": "2abb7029",
   "metadata": {},
   "outputs": [],
   "source": [
    "mask_detection = tf.keras.models.load_model(\"mask_detection_mb.h5\", compile=False)\n",
    "\n",
    "mask_detection.compile(\n",
    "    optimizer='SGD', \n",
    "    loss='binary_crossentropy', \n",
    "    metrics=['accuracy']\n",
    ")"
   ]
  },
  {
   "cell_type": "markdown",
   "id": "c9c0fbbe",
   "metadata": {},
   "source": [
    "### Function for Face Frame and Prediction"
   ]
  },
  {
   "cell_type": "code",
   "execution_count": 4,
   "id": "83064533",
   "metadata": {},
   "outputs": [],
   "source": [
    "def predict(image):\n",
    "    face_frame = cv2.cvtColor(image, cv2.COLOR_BGR2RGB)\n",
    "    face_frame = cv2.resize(face_frame, (224, 224))\n",
    "    face_frame = img_to_array(face_frame)\n",
    "    face_frame = np.expand_dims(face_frame, axis=0)\n",
    "    face_frame =  preprocess_input(face_frame)\n",
    "    \n",
    "    # predict the selected face frame for mask\n",
    "    prediction = mask_detection.predict(face_frame)\n",
    "    \n",
    "    return prediction[0][0]"
   ]
  },
  {
   "cell_type": "markdown",
   "id": "66144e1e",
   "metadata": {},
   "source": [
    "### Function for Haar Cascade Face Detection"
   ]
  },
  {
   "cell_type": "code",
   "execution_count": 5,
   "id": "d814c677",
   "metadata": {},
   "outputs": [],
   "source": [
    "text_mask = \"Mask On\"\n",
    "text_no_mask = \"Mask Off\"\n",
    "font = cv2.FONT_HERSHEY_SIMPLEX\n",
    "scale = 0.8\n",
    "\n",
    "def detect_and_draw(frame):\n",
    "    # For grayscale image\n",
    "    gray_frame = cv2.cvtColor(frame, cv2.COLOR_BGR2GRAY)\n",
    "    \n",
    "    # Initialize Haar Cascade\n",
    "    faces = face_classifier.detectMultiScale(gray_frame, scaleFactor=1.1, minNeighbors=5)\n",
    "    for (x, y, w, h) in faces:\n",
    "        roi_color = frame[y:y+h, x:x+w]\n",
    "        mask = predict(roi_color)\n",
    "        color = (0, 255, 0) if mask > 0.5 else (0, 0, 255)\n",
    "        label = text_mask if mask > 0.5 else text_no_mask\n",
    "        \n",
    "        # Frame size for the rectangular detection frame\n",
    "        cv2.rectangle(frame, (x, y), (x+w, y+h), color, 2)\n",
    "        # Output text after the predictions made\n",
    "        cv2.putText(frame, text=label, org=(x+5, y-10), fontFace=font, \n",
    "                    fontScale=scale, color=color, thickness=2)\n",
    "\n",
    "    return frame"
   ]
  },
  {
   "cell_type": "markdown",
   "id": "32cb731a",
   "metadata": {},
   "source": [
    "### Use the Webcam for live Testing"
   ]
  },
  {
   "cell_type": "code",
   "execution_count": 6,
   "id": "4baa98e5",
   "metadata": {},
   "outputs": [],
   "source": [
    "# Initialize the video capture\n",
    "video_cap = cv2.VideoCapture(0)\n",
    "\n",
    "# Set the desired window size\n",
    "window_width = 640\n",
    "window_height = 480\n",
    "window_name = \"Mask Detection Webcam\"\n",
    "\n",
    "cv2.namedWindow(window_name, cv2.WINDOW_NORMAL)\n",
    "cv2.resizeWindow(window_name, window_width, window_height)\n",
    "\n",
    "while True:\n",
    "    ret, frame = video_cap.read()\n",
    "    if not ret:\n",
    "        break\n",
    "\n",
    "    # Perform face detection and annotation\n",
    "    annotated_frame = detect_and_draw(frame)\n",
    "\n",
    "    # Resize and display the frame\n",
    "    resized_frame = cv2.resize(annotated_frame, (window_width, window_height))\n",
    "    cv2.imshow(window_name, resized_frame)\n",
    "\n",
    "    # Exit on 'q' key press\n",
    "    if cv2.waitKey(1) & 0xFF == ord(\"q\"):\n",
    "        break\n",
    "\n",
    "# Release resources\n",
    "video_cap.release()\n",
    "cv2.destroyAllWindows()"
   ]
  }
 ],
 "metadata": {
  "kernelspec": {
   "display_name": "Python (tensorflow)",
   "language": "python",
   "name": "tf"
  },
  "language_info": {
   "codemirror_mode": {
    "name": "ipython",
    "version": 3
   },
   "file_extension": ".py",
   "mimetype": "text/x-python",
   "name": "python",
   "nbconvert_exporter": "python",
   "pygments_lexer": "ipython3",
   "version": "3.8.17"
  }
 },
 "nbformat": 4,
 "nbformat_minor": 5
}
